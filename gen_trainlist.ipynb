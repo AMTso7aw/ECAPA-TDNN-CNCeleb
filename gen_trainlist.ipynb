{
 "cells": [
  {
   "cell_type": "code",
   "execution_count": 1,
   "metadata": {},
   "outputs": [],
   "source": [
    "import os"
   ]
  },
  {
   "cell_type": "code",
   "execution_count": 2,
   "metadata": {},
   "outputs": [],
   "source": [
    "test_list_path = 'CN-Celeb/CN-Celeb_flac/eval/lists/test.lst'\n",
    "test_list = open(test_list_path, 'r').readlines()\n",
    "test_list = [x.strip() for x in test_list]\n",
    "\n",
    "trails_list_path = 'CN-Celeb/CN-Celeb_flac/eval/lists/trials.lst'\n",
    "trails_list = open(trails_list_path, 'r').readlines()   \n",
    "trails_list = [x.strip() for x in trails_list]"
   ]
  },
  {
   "cell_type": "code",
   "execution_count": 3,
   "metadata": {},
   "outputs": [
    {
     "data": {
      "text/plain": [
       "(17777, 3484292)"
      ]
     },
     "execution_count": 3,
     "metadata": {},
     "output_type": "execute_result"
    }
   ],
   "source": [
    "len(test_list),len(trails_list)"
   ]
  },
  {
   "cell_type": "code",
   "execution_count": null,
   "metadata": {},
   "outputs": [],
   "source": []
  }
 ],
 "metadata": {
  "kernelspec": {
   "display_name": "ECAPA",
   "language": "python",
   "name": "python3"
  },
  "language_info": {
   "codemirror_mode": {
    "name": "ipython",
    "version": 3
   },
   "file_extension": ".py",
   "mimetype": "text/x-python",
   "name": "python",
   "nbconvert_exporter": "python",
   "pygments_lexer": "ipython3",
   "version": "3.7.12"
  }
 },
 "nbformat": 4,
 "nbformat_minor": 2
}
